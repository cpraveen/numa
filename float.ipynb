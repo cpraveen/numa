{
 "cells": [
  {
   "cell_type": "markdown",
   "id": "1b531acd-704b-4b97-ab55-e890807e1aa2",
   "metadata": {},
   "source": [
    "# Computer representation of numbers\n",
    "\n",
    "$$\n",
    "\\newcommand{\\re}{\\mathbb{R}}\n",
    "\\newcommand{\\half}{\\frac{1}{2}}\n",
    "\\newcommand{\\fl}[1]{\\textrm{fl}(#1)}\n",
    "\\newcommand{\\uround}{\\mathfrak{u}}\n",
    "$$"
   ]
  },
  {
   "cell_type": "code",
   "execution_count": null,
   "id": "eb94c3d8-0b68-41cf-997b-a9976dc721eb",
   "metadata": {},
   "outputs": [],
   "source": [
    "%config InlineBackend.figure_format = 'svg'\n",
    "import numpy as np\n",
    "import matplotlib.pyplot as plt"
   ]
  },
  {
   "cell_type": "markdown",
   "id": "cdd7e8d9-2c59-4118-b886-baece2c26b71",
   "metadata": {},
   "source": [
    "We are used to decimal system for counting. In general we can use any base $\\beta$ for\n",
    "the number system. On most modern computers, the base $\\beta = 2$, i.e., we use\n",
    "the binary number system. Any non-zero number $x$ is written as\n",
    "\n",
    "$$\n",
    "x = s \\cdot (.a_1 a_2 \\ldots a_t)_\\beta \\cdot \\beta^e = \\textrm{(sign)} \\cdot\n",
    "\\textrm{(fractional part)} \\cdot \\textrm{(exponent)}\n",
    "$$\n",
    "\n",
    "where\n",
    "\n",
    "$$\n",
    "\\begin{aligned}\n",
    "s = -1 \\textrm{ or } +1 \\\\\n",
    "0 \\le a_i \\le \\beta - 1 \\\\\n",
    "L \\le e \\le U \\textrm{ is an integer}\n",
    "\\end{aligned}\n",
    "$$\n",
    "\n",
    "In base 10, the fractional part has the value\n",
    "\n",
    "$$\n",
    "(.a_1 a_2 \\ldots a_t)_\\beta = \\frac{a_1}{\\beta} + \\frac{a_2}{\\beta^2} + \\ldots +\n",
    "\\frac{a_t}{\\beta^t}\n",
    "$$\n",
    "\n",
    "We will assume that $a_1 \\ne 0$ which is called a *normalized floating point system*\n",
    "and then\n",
    "\n",
    "$$\n",
    "1 \\le a _i \\le \\beta-1, \\qquad i=1,2,\\ldots,t\n",
    "$$\n",
    "\n",
    "$(\\beta, t, L,U)$ specifies the arithmetic characteristics of the floating point system."
   ]
  },
  {
   "cell_type": "markdown",
   "id": "7e6a3637-60b6-4111-b0a7-cbac5e58bad0",
   "metadata": {},
   "source": [
    "## Chopping and rounding\n",
    "\n",
    "Most real numbers cannot be exactly represented on a computer since we have finite\n",
    "precision. Hence they must be represented by a nearby number in the floating point\n",
    "system. This requires us to truncate a real number to fit into the floating point\n",
    "system, which can be done in two ways: chopping and rounding.\n",
    "\n",
    "Consider a real number\n",
    "\n",
    "$$\n",
    "x = s \\cdot (.a_1 a_2 \\ldots a_t a_{t+1} \\ldots )_\\beta \\cdot \\beta^e, \\qquad a_1 \\ne 0\n",
    "$$\n",
    "\n",
    "Let\n",
    "\n",
    "$$\n",
    "\\fl{x} = \\textrm{approximation of $x$ in the floating point system}\n",
    "$$\n",
    "\n",
    "**chopped machine representation**\n",
    "\n",
    "$$\n",
    "\\fl{x} = s \\cdot (.a_1 a_2 \\ldots a_t)_\\beta \\cdot \\beta^e\n",
    "$$\n",
    "\n",
    "We throw away all digits in the fractional part that do not fit into the floating-point system.\n",
    "\n",
    "**rounded machine representation**\n",
    "\n",
    "$$\n",
    "\\fl{x} = \\begin{cases}\n",
    "s \\cdot (.a_1 a_2 \\ldots a_t)_\\beta \\cdot \\beta^e & 0 \\le a_{t+1} < \\half\\beta \\\\\n",
    "s \\cdot [(.a_1 a_2 \\ldots a_t)_\\beta + (.0\\ldots01)_\\beta ]\\cdot \\beta^e & \\half\\beta \\le\n",
    "a_{t+1} < \\beta\n",
    "\\end{cases}\n",
    "$$\n",
    "\n",
    "We approximate by the nearest floating point number."
   ]
  },
  {
   "cell_type": "markdown",
   "id": "a4b2ef1e-4e49-430b-a1bd-1fc2d951be25",
   "metadata": {},
   "source": [
    "## Error in computer representation\n",
    "\n",
    "For most real numbers $x \\ne \\fl{x}$. Define the relative error\n",
    "\n",
    "$$\n",
    "\\epsilon = \\epsilon(x) = \\frac{\\fl{x} - x}{x}\n",
    "$$\n",
    "\n",
    "We have following bounds on the relative error\n",
    "\n",
    "* Chopping\n",
    "\n",
    "$$\n",
    "-\\beta^{-t + 1} \\le \\epsilon \\le 0\n",
    "$$\n",
    "\n",
    "* Rounding\n",
    "\n",
    "$$\n",
    "-\\half \\beta^{-t + 1} \\le \\epsilon \\le \\half \\beta^{-t+1}\n",
    "$$\n",
    "\n",
    "Thus the floating point approximation $\\fl{x}$ of $x \\in \\re$ satisfies\n",
    "\n",
    "$$\n",
    "\\fl{x} = x (1 + \\epsilon)\n",
    "$$\n",
    "\n",
    "This type of analysis was introduced by Wilkinson (1963). It allows us to deal precisely\n",
    "with the effects of rounding/chopping in computer arithmetic operations."
   ]
  },
  {
   "cell_type": "markdown",
   "id": "e0b1e97e-4868-40b9-a7a0-d83aaed68d17",
   "metadata": {},
   "source": [
    "## Proof for chopping\n",
    "\n",
    "Take sign $s=+1$. Then $\\fl{x} \\le x$ and\n",
    "\n",
    "$$\n",
    "x - \\fl{x} = (.00\\ldots 0a_{t+1}\\ldots)_\\beta \\cdot \\beta^e\n",
    "$$\n",
    "\n",
    "Let $\\gamma=\\beta-1$ (largest digit in base $\\beta$). Then\n",
    "\n",
    "\\begin{eqnarray*}\n",
    "0 &\\le& x - \\fl{x} \\\\\n",
    "&\\le& (.00\\ldots 0 \\gamma\\gamma\\ldots)_\\beta \\cdot \\beta^e \\\\\n",
    "&=& \\gamma \\left[ \\frac{1}{\\beta^{t+1}} + \\frac{1}{\\beta^{t+2}} + \\ldots \\right]\n",
    "\\beta^e \\\\\n",
    "&=& \\gamma \\frac{\\beta^{-t-1}}{1- \\beta^{-1}} \\beta^e \\\\\n",
    "&=& \\beta^{-t + e}\n",
    "\\end{eqnarray*}\n",
    "\n",
    "The relative error is\n",
    "\n",
    "\\begin{eqnarray*}\n",
    "0 &\\le& \\frac{x - \\fl{x}}{x} \\\\\n",
    "&\\le& \\frac{\\beta^{-t+e}}{(.a_1a_2\\ldots)_\\beta \\cdot \\beta^e} \\\\\n",
    "&\\le& \\frac{\\beta^{-t}}{(.100\\ldots)_\\beta} \\\\\n",
    "&=& \\beta^{-t+1}\n",
    "\\end{eqnarray*}"
   ]
  },
  {
   "cell_type": "markdown",
   "id": "ffd1a026-6bcc-4125-b591-fc1f59a02925",
   "metadata": {},
   "source": [
    "## Accuracy of floating numbers: Unit Round\n",
    "\n",
    "The **unit round** $\\uround$\n",
    "\n",
    "* It is a positive floating point number.\n",
    "* It is the smallest such number for which\n",
    "$$\n",
    "\\fl{1 + \\uround} > 1\n",
    "$$\n",
    "\n",
    "This means that for any $\\delta < \\uround$, then\n",
    "\n",
    "$$\n",
    "\\fl{1 + \\delta} = 1\n",
    "$$\n",
    "\n",
    "1 and $1 + \\delta$ are identical within the computer arithmetic. Thus the *unit round\n",
    "characterizes the accuracy of arithmetic computations*. We have\n",
    "\n",
    "$$\n",
    "\\uround = \\begin{cases}\n",
    "\\beta^{-t+1} & \\textrm{for chopping} \\\\\n",
    "\\half\\beta^{-t+1} & \\textrm{for rounding}\n",
    "\\end{cases}\n",
    "$$\n",
    "\n",
    "Hence we get the important relation for floating point numbers\n",
    "\n",
    "$$\n",
    "\\boxed{\\fl{x} = x(1 + \\epsilon), \\qquad |\\epsilon| \\le \\uround}\n",
    "$$"
   ]
  },
  {
   "cell_type": "markdown",
   "id": "77434e90-aeef-49b6-8546-f4ab9a6b223e",
   "metadata": {},
   "source": [
    "**With rounding on a binary computer, show that $\\uround = 2^{-t}$**\n",
    "\n",
    "We must show that\n",
    "\n",
    "$$\n",
    "\\fl{1 + 2^{-t}} > 1\n",
    "$$\n",
    "\n",
    "Firstly $2^{-t} = (.10\\ldots 0)_2 \\cdot 2^{-t+1}$ is a floating point number.\n",
    "\n",
    "\\begin{eqnarray*}\n",
    "1 + 2^{-t} &=& [ (.10\\ldots 0)_2 + (.00\\ldots 010\\ldots)_2] \\cdot 2^1 \\\\\n",
    "&=& (.10\\ldots 01)_2 \\cdot 2^1 \\qquad \\textrm{(1 at  $(t+1)$'th position})\n",
    "\\end{eqnarray*}\n",
    "\n",
    "Hence rounding gives\n",
    "\n",
    "\\begin{eqnarray*}\n",
    "\\fl{1 + 2^{-t}} &=& (.10\\ldots 10)_2 \\cdot 2^1 \\\\\n",
    "&& \\textrm{rounding gives 1 at $t$'th position} \\\\\n",
    "&=& 1 + 2^{-t+1} \\\\\n",
    "&>& 1\n",
    "\\end{eqnarray*}\n",
    "\n",
    "If $\\delta < \\uround$, then\n",
    "\n",
    "\\begin{eqnarray*}\n",
    "1 + \\delta &=& [ (.10\\ldots 0)_2 + (.00\\ldots 00\\ldots)_2] \\cdot 2^1 \\\\\n",
    "&& \\qquad\\qquad \\textrm{zero in $(t+1)$'th position} \\\\\n",
    "&=& (.10\\ldots 00\\ldots)_2 \\cdot 2^1\n",
    "\\end{eqnarray*}\n",
    "\n",
    "Hence, rounding to $t$ places gives\n",
    "\n",
    "$$\n",
    "\\fl{1+\\delta} = (.10\\ldots 0)_2 \\cdot 2^1 = 1\n",
    "$$"
   ]
  },
  {
   "cell_type": "code",
   "execution_count": null,
   "id": "50eabb03-696b-482e-bc7f-03cab3b2f8f3",
   "metadata": {},
   "outputs": [],
   "source": [
    "i, x = 0, 1.0\n",
    "while 1.0 + x > 1.0:\n",
    "    x = x / 2\n",
    "    i = i + 1\n",
    "print(i)"
   ]
  },
  {
   "cell_type": "markdown",
   "id": "44f3b89d-ed60-446d-93a5-007ce66d2612",
   "metadata": {},
   "source": [
    "This shows that in double precision, $1 + 2^{-53} = 1$, and thus the unit round is $\\uround = 2^{-53}$."
   ]
  },
  {
   "cell_type": "markdown",
   "id": "04a1d588-f566-426b-9e56-e4b5403bd2a1",
   "metadata": {},
   "source": [
    "## Underflow and overflow\n",
    "\n",
    "The smallest positive floating point number in the system $(\\beta,t,L,U)$ is\n",
    "\n",
    "$$\n",
    "x_L = (.10\\ldots.0)_\\beta \\cdot \\beta^L = \\beta^{L-1}\n",
    "$$\n",
    "\n",
    "\n",
    "and the largest positive floating point number is\n",
    "\n",
    "$$\n",
    "x_U = (.\\gamma\\gamma\\ldots\\gamma)_\\beta \\cdot \\beta^U = (1-\\beta^{-t}) \\beta^U\n",
    "$$\n",
    "\n",
    "The range of numbers that are representable in the floating-point system is\n",
    "\n",
    "$$\n",
    "x_L \\le |x| \\le x_U\n",
    "$$\n",
    "\n",
    "Obviously, we cannot represent a number which is outside this range.\n",
    "\n",
    "* Overflow error: $|x| > x_U$\n",
    "  * leads to fatal error in computation\n",
    "  * program may terminate\n",
    "* Underflow error: $|x| < x_L$\n",
    "  * may not be a fatal error\n",
    "  * $\\fl{x}$ is set to zero and computations can continue\n",
    "  * However, in some cases, accuracy may be severly lost."
   ]
  },
  {
   "cell_type": "markdown",
   "id": "49911e36-aa58-457a-83c0-033c3d611fd1",
   "metadata": {},
   "source": [
    "## IEEE floating point system\n",
    "\n",
    "The IEEE floating point system was developed under the leadership of Prof. William Kahan\n",
    "of Univ. of California, Berkely.  Project 754 was formed in 1970 to produce the best\n",
    "possible definition of floating-point arithmetic. The IEEE 754 Standard gives\n",
    "\n",
    "* definition of floating-point numbers\n",
    "* rounding operations\n",
    "* format conversion\n",
    "* exception rules (invalid operation, division by zero, overflow, underflow)\n",
    "\n",
    "### IEEE single precision\n",
    "\n",
    "Fortran77: `real*4`, Fortran90: `real`, C/C++: `float`\n",
    "\n",
    "* 32 bit word\n",
    "* 1 bit for sign\n",
    "* 8 bits for biased exponent $(L=-126, U=127)$; $2^8 = 256 = 126 + 1 + 127 + 1 + 1$, the last two are for Inf and NaN.\n",
    "* 23 bits for fractional part (mantissa)\n",
    "* Largest number = $(2 - 2^{-23}) \\cdot 2^{127} \\approx 3.4028 \\times 10^{38}$\n",
    "* Smallest positive normalized number = $2^{-126} \\approx 1.1755 \\times 10^{-38}$\n",
    "* Unit roundoff, $\\uround = 2^{-24} \\approx 5.96 \\times 10^{-8}$, corresponds to about seven decimal places.\n",
    "\n",
    "### IEEE double precision\n",
    "\n",
    "Fortran77: `real*8`, Fortran90: `double precision`, C/C++: `double`\n",
    "\n",
    "* Based on two 32 bit words or one 64 bit word\n",
    "* 1 bit for the sign\n",
    "* 11 bits for the biased exponent $(L=-1022, U=1023)$\n",
    "* 52 bits for the fractional part\n",
    "* Largest number = $(2 - 2^{-52}) \\cdot 2^{1023} \\approx 1.7977 \\times 10^{308}$\n",
    "* Smallest positive normalized number = $2^{-1022} \\approx 2.2251 \\times 10^{-308}$\n",
    "* Unit round $\\uround = 2^{-53} \\approx 1.11 \\times 10^{-16}$"
   ]
  },
  {
   "cell_type": "markdown",
   "id": "74fe51de-6941-4435-82c5-59755e11158a",
   "metadata": {},
   "source": [
    "## Precision of computer arithmetic and physics\n",
    "\n",
    "With IEEE double precision, the interval $[1,2]$ is approximated by about $10^{16}$\n",
    "floating point numbers. In a handful of solid or liquid, or a balloon of gas, the number\n",
    "of atoms/molecules in a line from one point to another is of the order of $10^8$\n",
    "(cube root of Avogadro number). Such a system behaves like a continuum, enabling\n",
    "us to define physical quantities like density, pressure, stress, strain and temperature.\n",
    "Computer arithmetic is more than a million times finer tham this.\n",
    "\n",
    "The fundamental constants of physics are known to only a few decimal places.\n",
    "\n",
    "* gravitational constant $G$ - 4 digits\n",
    "* Planck's constant $h$ - 7 digits\n",
    "* elementary charge $e$ - 7 digits\n",
    "* ratio of magnetic moment of electron to the Bohr magneton $\\mu_e/\\mu_B$ - 12 digits\n",
    "\n",
    "Nothing in physics is known to more than 12 or 13 digits of accuracy. IEEE numbers are\n",
    "orders of magnitude more precise than any number in science. Mathematical\n",
    "quantities like $\\pi$ are of course known to more accuracy.\n",
    "\n",
    "In the early days of numerical analysis, computers were not very precise, numerical\n",
    "algorithms, especially conditioning and stability were not well understood. Hence\n",
    "there was too much emphasis on studying rounding errors. Today, computer\n",
    "arithmetic is more precise and well understood, and we can control rounding errors\n",
    "through stability of numerical algorithms.\n",
    "\n",
    "> The main business of numerical analysis is designing algorithms that converge quickly;\n",
    "rounding error analysis is rarely the central issue. If rounding errors vanished, 99\\%\n",
    "of numerical analysis would remain. - Lloyd N. Trefethen"
   ]
  },
  {
   "cell_type": "markdown",
   "id": "7efd272c-884f-419e-9a5a-90ccef8aa8bd",
   "metadata": {},
   "source": [
    "## Example: round-off errors\n",
    "\n",
    "Evaluate\n",
    "\n",
    "$$\n",
    "f(x) = 1 - \\cos x\n",
    "$$\n",
    "\n",
    "for $x = 10^{-8}$. This yields $f = 0.0$ even in double precision. "
   ]
  },
  {
   "cell_type": "code",
   "execution_count": null,
   "id": "73af1efc-f0f6-41fd-b945-a46bc0ec7b9e",
   "metadata": {},
   "outputs": [],
   "source": [
    "from math import cos\n",
    "x = 1.0e-8\n",
    "y = 1.0 - cos(x)\n",
    "print(\"%24.14e\" % y)"
   ]
  },
  {
   "cell_type": "markdown",
   "id": "f3e32f19-ce5a-4fc0-bbdc-f0d987731452",
   "metadata": {},
   "source": [
    "An equivalent expression is\n",
    "\n",
    "$$\n",
    "f(x) = 2 \\sin^2(x/2)\n",
    "$$\n",
    "\n",
    "which yields $f = 5 \\times 10^{-17}$. "
   ]
  },
  {
   "cell_type": "code",
   "execution_count": null,
   "id": "df8c75ef-b475-4414-a5f7-cb306c10b14a",
   "metadata": {},
   "outputs": [],
   "source": [
    "from math import sin\n",
    "z = 2.0*sin(0.5*x)**2\n",
    "print(\"%24.14e\" % z)"
   ]
  },
  {
   "cell_type": "markdown",
   "id": "df33c60b-1353-4a47-b972-d49f085e9288",
   "metadata": {},
   "source": [
    "The first form suffers from roundoff errors while\n",
    "the second one is more accurate. This may or may not be a problem. A situation\n",
    "where this is problematic is if you want to compute\n",
    "\n",
    "$$\n",
    "f(x) = \\frac{1 - \\cos(x)}{x^2}\n",
    "$$"
   ]
  },
  {
   "cell_type": "code",
   "execution_count": null,
   "id": "e32b81e6-e241-4a6a-baeb-f655a59c2caa",
   "metadata": {},
   "outputs": [],
   "source": [
    "y = (1.0 - cos(x))/x**2\n",
    "print(\"%24.14e\" % y)"
   ]
  },
  {
   "cell_type": "markdown",
   "id": "f038105f-7947-4581-a314-56826ac87b72",
   "metadata": {},
   "source": [
    "We will get an answer of zero, but the correct value is closer to $\\half$."
   ]
  },
  {
   "cell_type": "code",
   "execution_count": null,
   "id": "e9274251-f5c0-409f-b549-2f48b309fb24",
   "metadata": {},
   "outputs": [],
   "source": [
    "z = 2.0*sin(0.5*x)**2 / x**2\n",
    "print(\"%24.14e\" % z)"
   ]
  },
  {
   "cell_type": "markdown",
   "id": "2ba781c8-2e94-4e7b-aeee-19c2ba214fe5",
   "metadata": {},
   "source": [
    "## Example: round-off errors\n",
    "\n",
    "Consider computing\n",
    "\n",
    "$$\n",
    "x = 10^{-8}, \\qquad y = \\sqrt{1+x^2} - 1\n",
    "$$"
   ]
  },
  {
   "cell_type": "code",
   "execution_count": null,
   "id": "bfe7d56f-090f-4a10-8e0f-f2dbb82a69d1",
   "metadata": {},
   "outputs": [],
   "source": [
    "from math import sqrt\n",
    "x = 1.0e-8\n",
    "y = sqrt(1.0 + x**2) - 1.0\n",
    "print(\"%20.10e\" % y)"
   ]
  },
  {
   "cell_type": "markdown",
   "id": "2701f3b9-75ae-445d-8feb-a9d9724b1b91",
   "metadata": {},
   "source": [
    "The result is zero due to round-off error. An equivalent expression is\n",
    "\n",
    "$$\n",
    "y = \\frac{x^2}{\\sqrt{1 + x^2} + 1}\n",
    "$$"
   ]
  },
  {
   "cell_type": "code",
   "execution_count": null,
   "id": "655c718d-9e26-4dfb-9fe1-04258c3de7fd",
   "metadata": {},
   "outputs": [],
   "source": [
    "y = x**2/(sqrt(1.0+x**2) + 1.0)\n",
    "print(\"%20.10e\" % y)"
   ]
  },
  {
   "cell_type": "markdown",
   "id": "b324119d-3081-48aa-b391-34223fba4bc9",
   "metadata": {},
   "source": [
    "This is more accurate\n",
    "\n",
    "$$\n",
    "y = \\sqrt{1 + x^2} - 1 \\approx (1 + x^2/2)-1 = \\frac{1}{2}x^2 = 5.0 \\times 10^{-17}\n",
    "$$"
   ]
  },
  {
   "cell_type": "markdown",
   "id": "9dfefc6c-3069-47be-b490-58d6eb873279",
   "metadata": {},
   "source": [
    "## Example: polynomial evaluation\n",
    "\n",
    "Let us evaluate\n",
    "\n",
    "$$\n",
    "y = x^3 - 3 x^2 + 3 x - 1\n",
    "$$\n",
    "\n",
    "in single precision. Note that it can also be written as \n",
    "\n",
    "$$\n",
    "y = (x-1)^3\n",
    "$$"
   ]
  },
  {
   "cell_type": "code",
   "execution_count": null,
   "id": "c47a4151-18db-437b-b2ab-c107b62232fe",
   "metadata": {},
   "outputs": [],
   "source": [
    "x = np.linspace(0.99,1.01,50,dtype=np.float32)\n",
    "y = x**3 - 3.0*x**2 + 3.0*x - 1.0\n",
    "plt.plot(x,y,'-o',x,(x-1)**3)\n",
    "plt.xlabel('x')\n",
    "plt.ylabel('y')\n",
    "plt.legend(('Single precision','Exact'));"
   ]
  },
  {
   "cell_type": "markdown",
   "id": "9837b9d6-3bd0-415f-8dee-ebdc8fb4a1fc",
   "metadata": {},
   "source": [
    "Now, let us do it in double precision."
   ]
  },
  {
   "cell_type": "code",
   "execution_count": null,
   "id": "84028799-8161-48f9-b89f-32dfb4389673",
   "metadata": {},
   "outputs": [],
   "source": [
    "x = np.linspace(0.99,1.01,50,dtype=np.float64)\n",
    "y = x**3 - 3.0*x**2 + 3.0*x - 1.0\n",
    "plt.plot(x,y,'-o',x,(x-1)**3)\n",
    "plt.xlabel('x')\n",
    "plt.ylabel('y')\n",
    "plt.legend(('Double precision','Exact'));"
   ]
  },
  {
   "cell_type": "markdown",
   "id": "e15c1709-5e6d-4cd6-9406-ede765e0a3f8",
   "metadata": {},
   "source": [
    "```{exercise}\n",
    "The function\n",
    "\n",
    "$$\n",
    "f(x) = coth(x) - 1/x\n",
    "$$\n",
    "\n",
    "is finite at $x=0$ but the two terms are not. Note that\n",
    "\n",
    "$$\n",
    "f(x) = \\frac{x}{3} - \\frac{x^3}{45} + \\frac{2 x^5}{945} + \\ldots\n",
    "$$\n",
    "\n",
    "Approximate this in two parts $[0,\\delta]$ and $[\\delta,\\infty)$. How to choose $\\delta$ ?\n",
    "```"
   ]
  }
 ],
 "metadata": {
  "kernelspec": {
   "display_name": "Python 3 (ipykernel)",
   "language": "python",
   "name": "python3"
  },
  "language_info": {
   "codemirror_mode": {
    "name": "ipython",
    "version": 3
   },
   "file_extension": ".py",
   "mimetype": "text/x-python",
   "name": "python",
   "nbconvert_exporter": "python",
   "pygments_lexer": "ipython3",
   "version": "3.12.7"
  }
 },
 "nbformat": 4,
 "nbformat_minor": 5
}

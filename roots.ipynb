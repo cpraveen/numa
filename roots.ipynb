{
 "cells": [
  {
   "cell_type": "markdown",
   "id": "72369cc3-4a4c-4328-a19f-1f454be5990c",
   "metadata": {},
   "source": [
    "# Root finding\n",
    "\n",
    "$$\n",
    "\\newcommand{\\re}{\\mathbb{R}}\n",
    "\\newcommand{\\half}{\\frac{1}{2}}\n",
    "\\newcommand{\\cts}{C}\n",
    "\\newcommand{\\df}[2]{\\frac{\\partial #1}{\\partial #2}}\n",
    "\\newcommand{\\ud}{\\textrm{d}}\n",
    "\\newcommand{\\dd}[2]{\\frac{\\ud #1}{\\ud #2}}\n",
    "\\newcommand{\\sign}{\\textrm{sign}}\n",
    "$$"
   ]
  },
  {
   "cell_type": "markdown",
   "id": "b44696d2-fc94-44a1-b9cf-7a4fa2181f88",
   "metadata": {},
   "source": [
    "Given a continuous function $f : [a,b] \\to \\re$, find an $\\alpha \\in [a,b]$ such that\n",
    "$f(\\alpha) = 0$. Such an $\\alpha$ is called a root of $f$ or a zero of $f$. There could\n",
    "be many roots for a given function. At a root, the positive and negative parts of $f$\n",
    "cancel one another. So we have to careful about roundoff errors and care must be\n",
    "taken to evaluate the function so as to avoid loss of significance errors. Since we work\n",
    "with finite precision on the computer, we cannot expect to find an $\\alpha$ that\n",
    "makes the function exactly zero. At best, we hope to keep relative error under\n",
    "control. In this sense, zeros far from the origin cannot be computed with great\n",
    "absolute accuracy. Since the purpose is to solve some problem that involves\n",
    "approximations, it is not necessary to exactly locate the root, and an approximation is\n",
    "sufficient."
   ]
  },
  {
   "cell_type": "markdown",
   "id": "2a99f4a3-605a-4765-9c8b-fce1f7e2d9e2",
   "metadata": {},
   "source": [
    "## Example: Minima of a function\n",
    "To find the location where a given function\n",
    "$f : \\re^N \\to \\re$ attains a local minimum, we have to solve the equation $f'(x) =\n",
    "0$. Note that $g = f' : \\re^N \\to \\re^N$ and we have a multi-dimensional root finding\n",
    "problem: find $x = (x_1, x_2, \\ldots, x_N)$ such that\n",
    "\n",
    "$$\n",
    "g_i(x_1, x_2, \\ldots, x_N) = \\df{f}{x_i}(x_1, x_2, \\ldots, x_N) = 0, \\qquad 1 \\le i \\le N\n",
    "$$"
   ]
  },
  {
   "cell_type": "markdown",
   "id": "668219e7-8db3-46f5-98c1-b556a5e5cab5",
   "metadata": {},
   "source": [
    "## Example: Solving ODE\n",
    "Consider the system of ODE\n",
    "\n",
    "$$\n",
    "\\dd{u(t)}{t} = f(u(t)), \\qquad t \\in [0,T]\n",
    "$$\n",
    "\n",
    "where $u \\in \\re^N$ and $f : \\re^N \\to \\re^N$. We are given some initial condition $u(0)\n",
    "= u_0 \\in \\re^N$. The backward Euler scheme is given by\n",
    "\n",
    "$$\n",
    "\\frac{u^{n+1} - u^n}{\\Delta t} = f(u^{n+1})\n",
    "$$\n",
    "\n",
    "This is a set of $N$ non-linear equations for the unknown solution $u^{n+1}$. We can\n",
    "define\n",
    "\n",
    "$$\n",
    "H(u) = \\frac{u - u^n}{\\Delta t} - f(u)\n",
    "$$\n",
    "\n",
    "The solution $u^{n+1}$ we seek is the root of the function $H : \\re^N \\to \\re^N$. We\n",
    "have to solve a root problem for every time interval."
   ]
  },
  {
   "cell_type": "markdown",
   "id": "9c7dd831-5e0b-4858-9f3e-a9647fccb11b",
   "metadata": {},
   "source": [
    "## Bracketing the root\n",
    "\n",
    "There are no general methods to find the roots of an arbitrary function. The user must\n",
    "have some knowledge of where the root might possibly lie. It is hence useful to first\n",
    "find some small interval in which we expect the root to lie.\n",
    "\n",
    "> **Theorem: Intermediate Value Theorem.**\n",
    "> If $f \\in \\cts[a,b]$ and $y$ lies between $f(a)$ and $f(b)$, then there is atleast one point $x \\in [a,b]$ such that $y = f(x)$.\n",
    "\n",
    "Around a root, the function takes both positive and negative values. The IVT can be used\n",
    "to find an interval containing the root.\n",
    "\n",
    "> **Lemma: Bracketing interval.**\n",
    "> If $\\sign f(a) \\ne \\sign f(b)$, then there is alteast one root of $f$ in the interval $[a,b]$."
   ]
  },
  {
   "cell_type": "markdown",
   "id": "74b7be2a-b012-4b50-b937-dba693b51eca",
   "metadata": {},
   "source": [
    "## Bisection method\n",
    "\n",
    "Let $f$ be a continuous function. Given an interval $[a,b]$ such that\n",
    "\n",
    "$$\n",
    "\\sign f(a) \\ne \\sign f(b), \\qquad f(a) \\ne 0 \\ne f(b)\n",
    "$$\n",
    "\n",
    "then $[a,b]$ is called a {\\em non-trivial bracket} for a root of $f$. The basic idea of\n",
    "bisection method is: starting from a non-trivial bracket, find a new bracketing interval\n",
    "which is smaller in size. As the name suggests, we divide the interval into two equal\n",
    "and smaller intervals. First divide $[a,b]$ into $[a,c]$ and $[c,b]$ where $c =\n",
    "\\half(a+b)$. Then there are three possibilities.\n",
    "\n",
    "1. $f(c) = 0$, then we have found the root exactly.\n",
    "1. $f(c) \\ne 0$ and $\\sign f(c) \\ne \\sign f(b)$. Then $[c,b]$ is a non-trivial bracket.\n",
    "1. $f(c) \\ne 0$ and $\\sign f(a) \\ne \\sign f(c)$. Then $[a,c]$ is a non-trivial bracket.\n",
    "\n",
    "We repeat the above process until the root is found or the length of the bracketing interval\n",
    "is reduced to a small desired size. The method may not give a unique value for the\n",
    "root since it can lie anywhere in the bracketing interval. We can take the mid-point of\n",
    "the bracketing interval as the estimate of the root, in which case the error in the root\n",
    "is at most equal to half the length of the bracketing interval.\n",
    "\n",
    "The length of the bracketing interval reduces by half in each iteration, which means that\n",
    "the algorithm has a monotonic convergence behaviour. If\n",
    "\n",
    "$$\n",
    "L_0 = b-a = \\textrm{initial length}\n",
    "$$\n",
    "\n",
    "then after $k$ iterations\n",
    "\n",
    "$$\n",
    "L_k = \\frac{1}{2^k} L_0\n",
    "$$\n",
    "\n",
    "As a convergence criterion, we can put a tolerance on the length: stop if $L_k \\le \\epsilon$\n",
    "for some $\\epsilon > 0$ small. To achieve this tolerance, we require\n",
    "\n",
    "$$\n",
    "k \\approx \\log_2 \\frac{L_0}{\\epsilon}\n",
    "$$\n",
    "\n",
    "If $L_0 = 1$ and $\\epsilon = 10^{-6}$ then we need about 20 iterations. If we demand\n",
    "more accuracy, then the number of iterations will increase, though only\n",
    "logarithmically. The bisection method is shown in Algorithm~(1). We\n",
    "have put an upper limit on the number of iterations and we also specify the stopping\n",
    "criterion in terms of the length of the bracketing interval and/or the function value.\n",
    "\n",
    "\n",
    "<img src=\"./latex/p1.svg\" width=\"100%\" align=\"center\"/>\n"
   ]
  }
 ],
 "metadata": {
  "kernelspec": {
   "display_name": "Python 3 (ipykernel)",
   "language": "python",
   "name": "python3"
  },
  "language_info": {
   "codemirror_mode": {
    "name": "ipython",
    "version": 3
   },
   "file_extension": ".py",
   "mimetype": "text/x-python",
   "name": "python",
   "nbconvert_exporter": "python",
   "pygments_lexer": "ipython3",
   "version": "3.12.7"
  }
 },
 "nbformat": 4,
 "nbformat_minor": 5
}
